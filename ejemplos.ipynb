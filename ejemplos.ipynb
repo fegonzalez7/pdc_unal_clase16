{
 "cells": [
  {
   "cell_type": "code",
   "execution_count": 1,
   "metadata": {},
   "outputs": [
    {
     "name": "stdout",
     "output_type": "stream",
     "text": [
      "((0, 1, 2, 3), ('A', 'B', 'C'))\n",
      "(0, 1, 2, 3)\n",
      "('A', 'B', 'C')\n",
      "A\n"
     ]
    }
   ],
   "source": [
    "tuple1 = (0, 1, 2, 3)\n",
    "tuple2 = (\"A\", \"B\", \"C\")\n",
    "tuple3 = (tuple1, tuple2)\n",
    "print(tuple3) # ((0, 1, 2, 3),(\"A\", \"B\", \"C\"))\n",
    "print(tuple3[0]) # (0, 1, 2, 3)\n",
    "print(tuple3[1]) # (\"A\", \"B\", \"C\")\n",
    "print(tuple3[1][0]) # A"
   ]
  },
  {
   "cell_type": "code",
   "execution_count": 2,
   "metadata": {},
   "outputs": [
    {
     "name": "stdout",
     "output_type": "stream",
     "text": [
      "('A', 'B', 'C', 'E', 1, 2, 3, 4, 5)\n"
     ]
    }
   ],
   "source": [
    "tup1 = (\"A\", \"B\", \"C\", \"E\")\n",
    "tup2 = (1, 2, 3, 4, 5)\n",
    "tup3 = tup1 + tup2\n",
    "print(tup3) \n",
    "# (\"A\", \"B\", \"C\", \"E\", 1, 2, 3, 4, 5) - A\n",
    "# ((\"A\", \"B\", \"C\", \"E\"), (1, 2, 3, 4, 5)) - B"
   ]
  },
  {
   "cell_type": "code",
   "execution_count": 3,
   "metadata": {},
   "outputs": [
    {
     "name": "stdout",
     "output_type": "stream",
     "text": [
      "(1, 2, 3, 4, 5, 1, 2, 3, 4, 5, 1, 2, 3, 4, 5)\n",
      "('Abc', 'Bcd', 'Abc', 'Bcd')\n"
     ]
    }
   ],
   "source": [
    "tup2 = (1, 2, 3, 4, 5)\n",
    "tup3 = tup2 * 3\n",
    "print(tup3)\n",
    "tup4 = (\"Abc\", \"Bcd\")\n",
    "tup5 = tup4 * 2\n",
    "print(tup5)"
   ]
  },
  {
   "cell_type": "code",
   "execution_count": 4,
   "metadata": {},
   "outputs": [
    {
     "name": "stdout",
     "output_type": "stream",
     "text": [
      "()\n"
     ]
    }
   ],
   "source": [
    "tup6 = tup2*0\n",
    "print(tup6) "
   ]
  },
  {
   "cell_type": "code",
   "execution_count": 5,
   "metadata": {},
   "outputs": [
    {
     "name": "stdout",
     "output_type": "stream",
     "text": [
      "True\n"
     ]
    }
   ],
   "source": [
    "print((\"Rojas\", 123) < (\"Rosas\", 123))\n"
   ]
  },
  {
   "cell_type": "code",
   "execution_count": 6,
   "metadata": {},
   "outputs": [
    {
     "name": "stdout",
     "output_type": "stream",
     "text": [
      "False\n"
     ]
    }
   ],
   "source": [
    "print((\"Rosas\", 123) == (\"rosas\", 123))\n"
   ]
  },
  {
   "cell_type": "code",
   "execution_count": 7,
   "metadata": {},
   "outputs": [
    {
     "name": "stdout",
     "output_type": "stream",
     "text": [
      "True\n"
     ]
    }
   ],
   "source": [
    "print((\"Rosas\", 123) > (\"Rosas\", 23))\n"
   ]
  },
  {
   "cell_type": "code",
   "execution_count": 8,
   "metadata": {},
   "outputs": [
    {
     "name": "stdout",
     "output_type": "stream",
     "text": [
      "False\n"
     ]
    }
   ],
   "source": [
    "print((\"Rojas\", \"123\") > (\"Rosas\", 23))"
   ]
  },
  {
   "cell_type": "code",
   "execution_count": 9,
   "metadata": {},
   "outputs": [
    {
     "ename": "TypeError",
     "evalue": "'>' not supported between instances of 'str' and 'int'",
     "output_type": "error",
     "traceback": [
      "\u001b[1;31m---------------------------------------------------------------------------\u001b[0m",
      "\u001b[1;31mTypeError\u001b[0m                                 Traceback (most recent call last)",
      "Cell \u001b[1;32mIn[9], line 1\u001b[0m\n\u001b[1;32m----> 1\u001b[0m \u001b[38;5;28mprint\u001b[39m(\u001b[43m(\u001b[49m\u001b[38;5;124;43m\"\u001b[39;49m\u001b[38;5;124;43mRosas\u001b[39;49m\u001b[38;5;124;43m\"\u001b[39;49m\u001b[43m,\u001b[49m\u001b[43m \u001b[49m\u001b[38;5;124;43m\"\u001b[39;49m\u001b[38;5;124;43m123\u001b[39;49m\u001b[38;5;124;43m\"\u001b[39;49m\u001b[43m)\u001b[49m\u001b[43m \u001b[49m\u001b[38;5;241;43m>\u001b[39;49m\u001b[43m \u001b[49m\u001b[43m(\u001b[49m\u001b[38;5;124;43m\"\u001b[39;49m\u001b[38;5;124;43mRosas\u001b[39;49m\u001b[38;5;124;43m\"\u001b[39;49m\u001b[43m,\u001b[49m\u001b[43m \u001b[49m\u001b[38;5;241;43m23\u001b[39;49m\u001b[43m)\u001b[49m)\n",
      "\u001b[1;31mTypeError\u001b[0m: '>' not supported between instances of 'str' and 'int'"
     ]
    }
   ],
   "source": [
    "print((\"Rosas\", \"123\") > (\"Rosas\", 23))\n"
   ]
  },
  {
   "cell_type": "code",
   "execution_count": 10,
   "metadata": {},
   "outputs": [
    {
     "name": "stdout",
     "output_type": "stream",
     "text": [
      "True\n"
     ]
    }
   ],
   "source": [
    "print((\"Rosas\",) < (\"Rosas\", 23))"
   ]
  },
  {
   "cell_type": "code",
   "execution_count": 11,
   "metadata": {},
   "outputs": [
    {
     "name": "stdout",
     "output_type": "stream",
     "text": [
      "Ironman\n",
      "Hulk\n",
      "Hulk\n",
      "Thor\n"
     ]
    }
   ],
   "source": [
    "avengers = (\"Ironman\", \"Thor\", \"Ant-man\", \"Hulk\")\n",
    "print(avengers[0]) # Ironman\n",
    "print(avengers[3]) # Hulk\n",
    "print(avengers[-1]) # Hulk\n",
    "print(avengers[-3]) # Thor"
   ]
  },
  {
   "cell_type": "code",
   "execution_count": 12,
   "metadata": {},
   "outputs": [
    {
     "name": "stdout",
     "output_type": "stream",
     "text": [
      "Si está en la tupla\n"
     ]
    }
   ],
   "source": [
    "text = (\"cien\", \"años\", \"de\", \"soledad\")\n",
    "if \"años\" in text: print(\"Si está en la tupla\")\n",
    "else: print(\"No está en la tupla\")"
   ]
  },
  {
   "cell_type": "code",
   "execution_count": 13,
   "metadata": {},
   "outputs": [
    {
     "name": "stdout",
     "output_type": "stream",
     "text": [
      "hola, amigos, mios, "
     ]
    }
   ],
   "source": [
    "s = (\"hola\", \"amigos\", \"mios\")\n",
    "for palabra in s: # para cada palabra de la tupla\n",
    "  print(palabra, end = \", \")"
   ]
  },
  {
   "cell_type": "code",
   "execution_count": 14,
   "metadata": {},
   "outputs": [
    {
     "name": "stdout",
     "output_type": "stream",
     "text": [
      "hola, amigos, mios\n"
     ]
    }
   ],
   "source": [
    "print(\", \".join(s))"
   ]
  },
  {
   "cell_type": "code",
   "execution_count": 16,
   "metadata": {},
   "outputs": [
    {
     "name": "stdout",
     "output_type": "stream",
     "text": [
      "a = 1\n",
      "c = 3\n"
     ]
    }
   ],
   "source": [
    "tupla = (1, -2, 3)\n",
    "a, _, c = tupla\n",
    "print(\"a =\", a)\n",
    "# print(\"b =\", b)\n",
    "print(\"c =\", c)"
   ]
  },
  {
   "cell_type": "code",
   "execution_count": 17,
   "metadata": {},
   "outputs": [
    {
     "name": "stdout",
     "output_type": "stream",
     "text": [
      "a = 3\n",
      "b = 1\n"
     ]
    }
   ],
   "source": [
    "a = 1\n",
    "b = 3\n",
    "a, b = b, a\n",
    "print(\"a =\", a)\n",
    "print(\"b =\", b)"
   ]
  },
  {
   "cell_type": "code",
   "execution_count": 18,
   "metadata": {},
   "outputs": [
    {
     "name": "stdout",
     "output_type": "stream",
     "text": [
      "a = 3\n",
      "b = 1\n"
     ]
    }
   ],
   "source": [
    "a = 1\n",
    "b = 3\n",
    "aux = b\n",
    "b = a\n",
    "a = aux \n",
    "print(\"a =\", a)\n",
    "print(\"b =\", b)"
   ]
  },
  {
   "cell_type": "code",
   "execution_count": 20,
   "metadata": {},
   "outputs": [
    {
     "name": "stdout",
     "output_type": "stream",
     "text": [
      "var1 = 9 , var2 = 3 , var3 = 5\n",
      "var1 = 11 , var2 = -2 , var3 = 8\n"
     ]
    }
   ],
   "source": [
    "tupla = (11, 9, -2, 3, 8, 5)\n",
    "var1, var2, var3 = (tupla[i] for i in (1, 3, 5))\n",
    "print(\"var1 =\", var1, \", var2 =\", var2, \", var3 =\", var3)\n",
    "var1, var2, var3 = (tupla[i] for i in range(0,6,2))\n",
    "print(\"var1 =\", var1, \", var2 =\", var2, \", var3 =\", var3)"
   ]
  },
  {
   "cell_type": "code",
   "execution_count": 25,
   "metadata": {},
   "outputs": [
    {
     "name": "stdout",
     "output_type": "stream",
     "text": [
      "1 2 3\n",
      "['1', '2', '3']\n",
      "[1.0, 2.0, 3.0]\n",
      "[1.0, 2.0, 3.0]\n"
     ]
    }
   ],
   "source": [
    "l = input(\"Ingrese los números separados por espacios: \")\n",
    "print(l)\n",
    "print(l.split())\n",
    "numList = []\n",
    "for j in l.split():\n",
    "  numList.append(float(j))\n",
    "print(numList)\n",
    "numeros = [float(i) for i in l.split()]\n",
    "print(numeros)"
   ]
  },
  {
   "cell_type": "code",
   "execution_count": 28,
   "metadata": {},
   "outputs": [
    {
     "name": "stdout",
     "output_type": "stream",
     "text": [
      "5 13\n"
     ]
    }
   ],
   "source": [
    "def minmax(a, b):\n",
    "  if a < b:\n",
    "    return a, b\n",
    "  else:\n",
    "    return b, a\n",
    "\n",
    "if __name__ == \"__main__\":\n",
    "  x, y = minmax(5, 13)\n",
    "  print(x, y)\n"
   ]
  },
  {
   "cell_type": "code",
   "execution_count": 29,
   "metadata": {},
   "outputs": [
    {
     "name": "stdout",
     "output_type": "stream",
     "text": [
      "4\n",
      "2\n",
      "3\n",
      "0\n"
     ]
    }
   ],
   "source": [
    "tup = (1, 2, 3, 4)\n",
    "nombre = (\"Minch\", \"Yoda\")\n",
    "trabajo = (\"Stars\", \"War\", \"Movie\")\n",
    "empty = ()\n",
    "print(len(tup)) # 4\n",
    "print(len(nombre)) # 2\n",
    "print(len(trabajo)) # 3\n",
    "print(len(empty)) # 0"
   ]
  },
  {
   "cell_type": "code",
   "execution_count": 30,
   "metadata": {},
   "outputs": [
    {
     "name": "stdout",
     "output_type": "stream",
     "text": [
      "('Ironman', 'Thor')\n",
      "('Thor', 'Ant-man')\n",
      "()\n",
      "('Hulk', 'Ant-man', 'Thor', 'Ironman')\n"
     ]
    }
   ],
   "source": [
    "avengers = (\"Ironman\", \"Thor\", \"Ant-man\", \"Hulk\")\n",
    "print(avengers[:2]) #  1 - 2\n",
    "print(avengers[1:3]) # 2 - 3\n",
    "print(avengers[3:3]) # 4 - ()\n",
    "print(avengers[::-1]) # 4 - 3 - 2 - 1 "
   ]
  },
  {
   "cell_type": "code",
   "execution_count": 31,
   "metadata": {},
   "outputs": [
    {
     "name": "stdout",
     "output_type": "stream",
     "text": [
      "1\n",
      "3\n",
      "1\n",
      "0\n"
     ]
    }
   ],
   "source": [
    "tupla = (4, 3, 8, 8, 2, 5, 4, 6, 8, 9)\n",
    "print(tupla.count(2)) # 1\n",
    "print(tupla.count(8)) # 3\n",
    "print(tupla.count(5)) # 1\n",
    "print(tupla.count(7)) # 0"
   ]
  },
  {
   "cell_type": "code",
   "execution_count": 33,
   "metadata": {},
   "outputs": [
    {
     "name": "stdout",
     "output_type": "stream",
     "text": [
      "4\n",
      "2\n",
      "5\n"
     ]
    },
    {
     "ename": "ValueError",
     "evalue": "tuple.index(x): x not in tuple",
     "output_type": "error",
     "traceback": [
      "\u001b[1;31m---------------------------------------------------------------------------\u001b[0m",
      "\u001b[1;31mValueError\u001b[0m                                Traceback (most recent call last)",
      "Cell \u001b[1;32mIn[33], line 5\u001b[0m\n\u001b[0;32m      3\u001b[0m \u001b[38;5;28mprint\u001b[39m(tupla\u001b[38;5;241m.\u001b[39mindex(\u001b[38;5;241m8\u001b[39m)) \u001b[38;5;66;03m# 2\u001b[39;00m\n\u001b[0;32m      4\u001b[0m \u001b[38;5;28mprint\u001b[39m(tupla\u001b[38;5;241m.\u001b[39mindex(\u001b[38;5;241m5\u001b[39m)) \u001b[38;5;66;03m# 5\u001b[39;00m\n\u001b[1;32m----> 5\u001b[0m \u001b[38;5;28mprint\u001b[39m(\u001b[43mtupla\u001b[49m\u001b[38;5;241;43m.\u001b[39;49m\u001b[43mindex\u001b[49m\u001b[43m(\u001b[49m\u001b[38;5;241;43m7\u001b[39;49m\u001b[43m)\u001b[49m)\n",
      "\u001b[1;31mValueError\u001b[0m: tuple.index(x): x not in tuple"
     ]
    }
   ],
   "source": [
    "tupla = (4, 3, 8, 8, 2, 5, 4, 6, 8, 9)\n",
    "print(tupla.index(2)) # 4\n",
    "print(tupla.index(8)) # 2\n",
    "print(tupla.index(5)) # 5\n",
    "print(tupla.index(7))"
   ]
  },
  {
   "cell_type": "code",
   "execution_count": 34,
   "metadata": {},
   "outputs": [
    {
     "name": "stdout",
     "output_type": "stream",
     "text": [
      "7\n",
      "-1\n"
     ]
    }
   ],
   "source": [
    "t = (4, 5, -1, 6, 7)\n",
    "print(max(t)) # 7\n",
    "print(min(t)) # -1"
   ]
  },
  {
   "cell_type": "code",
   "execution_count": 36,
   "metadata": {},
   "outputs": [
    {
     "name": "stdout",
     "output_type": "stream",
     "text": [
      "b\n",
      "a\n"
     ]
    }
   ],
   "source": [
    "t = (\"b\", \"a\", \"ab\")\n",
    "print(max(t))\n",
    "print(min(t))"
   ]
  },
  {
   "cell_type": "code",
   "execution_count": 37,
   "metadata": {},
   "outputs": [
    {
     "name": "stdout",
     "output_type": "stream",
     "text": [
      "('D', 'u', 'm', 'b', 'l', 'e', 'd', 'o', 'r', 'e')\n"
     ]
    }
   ],
   "source": [
    "magician = \"Dumbledore\"\n",
    "tm = tuple(magician)\n",
    "print(tm)"
   ]
  },
  {
   "cell_type": "code",
   "execution_count": 38,
   "metadata": {},
   "outputs": [
    {
     "name": "stdout",
     "output_type": "stream",
     "text": [
      "['D', 'u', 'm', 'b', 'l', 'e', 'd', 'o', 'r', 'e']\n"
     ]
    }
   ],
   "source": [
    "magician = \"Dumbledore\"\n",
    "tm = list(magician)\n",
    "print(tm)"
   ]
  },
  {
   "cell_type": "code",
   "execution_count": 41,
   "metadata": {},
   "outputs": [
    {
     "name": "stdout",
     "output_type": "stream",
     "text": [
      "a: 1 b: 2\n"
     ]
    }
   ],
   "source": [
    "tup1 = (1, 2, 3)\n",
    "a, b, _ = tup1\n",
    "print(\"a:\", a, \"b:\", b)"
   ]
  },
  {
   "cell_type": "markdown",
   "metadata": {},
   "source": [
    "### Archivos"
   ]
  },
  {
   "cell_type": "code",
   "execution_count": 43,
   "metadata": {},
   "outputs": [
    {
     "name": "stdout",
     "output_type": "stream",
     "text": [
      "\n",
      "But soft what light through yonder window breaks\n",
      "It is the east and Juliet is the sun\n",
      "Arise fair sun and kill the envious moon\n",
      "Who is already sick and pale with grief\n",
      "\n"
     ]
    }
   ],
   "source": [
    "s = '''\n",
    "But soft what light through yonder window breaks\n",
    "It is the east and Juliet is the sun\n",
    "Arise fair sun and kill the envious moon\n",
    "Who is already sick and pale with grief\n",
    "'''\n",
    "print(s)"
   ]
  },
  {
   "cell_type": "code",
   "execution_count": 78,
   "metadata": {},
   "outputs": [],
   "source": [
    "file = open('romeo.txt')"
   ]
  },
  {
   "cell_type": "code",
   "execution_count": 53,
   "metadata": {},
   "outputs": [
    {
     "name": "stdout",
     "output_type": "stream",
     "text": [
      "<_io.TextIOWrapper name='romeo.txt' mode='r' encoding='cp1252'>\n"
     ]
    }
   ],
   "source": [
    "print(file)"
   ]
  },
  {
   "cell_type": "code",
   "execution_count": 77,
   "metadata": {},
   "outputs": [
    {
     "name": "stdout",
     "output_type": "stream",
     "text": [
      "        But soft what light through yonder window breaks\n",
      "It is the east and Juliet is the sun\n",
      "        Arise fair sun and kill the envious moon\n",
      "Who is already sick and pale with grief\n",
      "\n"
     ]
    }
   ],
   "source": [
    "print(file.read())"
   ]
  },
  {
   "cell_type": "code",
   "execution_count": 74,
   "metadata": {},
   "outputs": [
    {
     "name": "stdout",
     "output_type": "stream",
     "text": [
      "But soft what light through yonder window breaks\n",
      "It is the east and Juliet is the sun\n",
      "Arise fair sun and kill the envious moon\n",
      "Who is already sick and pale with grief\n",
      "\n"
     ]
    }
   ],
   "source": [
    "sRead = file.read()\n",
    "print(sRead)"
   ]
  },
  {
   "cell_type": "code",
   "execution_count": 88,
   "metadata": {},
   "outputs": [
    {
     "name": "stdout",
     "output_type": "stream",
     "text": [
      "Linea 1: BUTSOFTWHATLIGHTTHROUGHYONDERWINDOWBREAKS\n",
      "Linea 2: ITISTHEEASTANDJULIETISTHESUN\n",
      "Linea 3: ARISEFAIRSUNANDKILLTHEENVIOUSMOON\n",
      "Linea 4: WHOISALREADYSICKANDPALEWITHGRIEF\n"
     ]
    }
   ],
   "source": [
    "file = open('romeo.txt', \"r\")\n",
    "lin : int = 1\n",
    "for line in file.readlines():\n",
    "  print(\"Linea \" + str(lin) + \": \" + line.upper().lstrip().replace(\" \", \"\"), end=\"\")\n",
    "  lin += 1\n",
    "file.close()\n",
    "\n"
   ]
  },
  {
   "cell_type": "code",
   "execution_count": 75,
   "metadata": {},
   "outputs": [
    {
     "name": "stdout",
     "output_type": "stream",
     "text": [
      "105\n"
     ]
    }
   ],
   "source": [
    "print(sRead.find(\"kill\"))"
   ]
  },
  {
   "cell_type": "code",
   "execution_count": null,
   "metadata": {},
   "outputs": [],
   "source": []
  }
 ],
 "metadata": {
  "kernelspec": {
   "display_name": "Python 3.10.10 64-bit",
   "language": "python",
   "name": "python3"
  },
  "language_info": {
   "codemirror_mode": {
    "name": "ipython",
    "version": 3
   },
   "file_extension": ".py",
   "mimetype": "text/x-python",
   "name": "python",
   "nbconvert_exporter": "python",
   "pygments_lexer": "ipython3",
   "version": "3.10.10"
  },
  "orig_nbformat": 4,
  "vscode": {
   "interpreter": {
    "hash": "26de051ba29f2982a8de78e945f0abaf191376122a1563185a90213a26c5da77"
   }
  }
 },
 "nbformat": 4,
 "nbformat_minor": 2
}
